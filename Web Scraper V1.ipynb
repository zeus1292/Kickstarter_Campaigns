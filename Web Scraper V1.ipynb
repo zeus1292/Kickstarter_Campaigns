{
 "cells": [
  {
   "cell_type": "markdown",
   "metadata": {},
   "source": [
    "<h2> Read in the Data Frame </h2>"
   ]
  },
  {
   "cell_type": "code",
   "execution_count": 2,
   "metadata": {},
   "outputs": [],
   "source": [
    "import pandas as pd\n",
    "import numpy as np\n",
    "import requests\n",
    "from bs4 import BeautifulSoup as bs\n",
    "import json\n"
   ]
  },
  {
   "cell_type": "code",
   "execution_count": 3,
   "metadata": {},
   "outputs": [],
   "source": [
    "kickstarter_df = pd.read_csv(\"Kickstarter001.csv\")"
   ]
  },
  {
   "cell_type": "code",
   "execution_count": 4,
   "metadata": {},
   "outputs": [],
   "source": [
    "#Test Run for a sample data set\n",
    "\n",
    "kickstarter_df = kickstarter_df.head(5)"
   ]
  },
  {
   "cell_type": "code",
   "execution_count": 5,
   "metadata": {},
   "outputs": [],
   "source": [
    "def extract_creator_id(json_obj):\n",
    "    try:\n",
    "        temp=json.loads(json_obj)\n",
    "    except:\n",
    "        return None\n",
    "    return temp['id']\n",
    "    \n",
    "creator_id = kickstarter_df['creator'].apply(extract_creator_id)"
   ]
  },
  {
   "cell_type": "code",
   "execution_count": 6,
   "metadata": {},
   "outputs": [],
   "source": [
    "def extract_reward_urls(json_obj):\n",
    "    temp = json.loads(json_obj)\n",
    "    return (temp['web']['rewards'])\n",
    "    \n",
    "reward_urls=kickstarter_df['urls'].apply(extract_reward_urls)"
   ]
  },
  {
   "cell_type": "markdown",
   "metadata": {},
   "source": [
    "<h2> Runtime is pretty high for pull_reward_details (>60 mins for 3800 records) </h2>"
   ]
  },
  {
   "cell_type": "code",
   "execution_count": 7,
   "metadata": {
    "scrolled": true
   },
   "outputs": [],
   "source": [
    "def pull_reward_details(url_list):\n",
    "    \n",
    "    reward_tier = list()\n",
    "    #Read the urls and extract details on rewarding tiers\n",
    "    for i in url_list:\n",
    "        #print(i)\n",
    "        response=requests.get(i)\n",
    "        if response.status_code!=200:\n",
    "            print(\"Error pulling data from {}\".format(i))\n",
    "            continue\n",
    "        reward_desc=bs(response.content,'lxml')\n",
    "        a=reward_desc.find('ol').find_all('li')\n",
    "        reward_tier.append(len(a))\n",
    "    \n",
    "    return (reward_tier)\n",
    "        \n",
    "reward_tier = pull_reward_details(reward_urls)"
   ]
  },
  {
   "cell_type": "code",
   "execution_count": 8,
   "metadata": {},
   "outputs": [],
   "source": [
    "a = pd.DataFrame({\"Project_Id\":kickstarter_df['id'],\"Creator_Id\":creator_id,\"Reward_Tiers\":reward_tier,\"Rewards_Url\":reward_urls})"
   ]
  },
  {
   "cell_type": "code",
   "execution_count": 9,
   "metadata": {},
   "outputs": [
    {
     "data": {
      "text/html": [
       "<div>\n",
       "<style scoped>\n",
       "    .dataframe tbody tr th:only-of-type {\n",
       "        vertical-align: middle;\n",
       "    }\n",
       "\n",
       "    .dataframe tbody tr th {\n",
       "        vertical-align: top;\n",
       "    }\n",
       "\n",
       "    .dataframe thead th {\n",
       "        text-align: right;\n",
       "    }\n",
       "</style>\n",
       "<table border=\"1\" class=\"dataframe\">\n",
       "  <thead>\n",
       "    <tr style=\"text-align: right;\">\n",
       "      <th></th>\n",
       "      <th>Project_Id</th>\n",
       "      <th>Creator_Id</th>\n",
       "      <th>Reward_Tiers</th>\n",
       "      <th>Rewards_Url</th>\n",
       "    </tr>\n",
       "  </thead>\n",
       "  <tbody>\n",
       "    <tr>\n",
       "      <th>0</th>\n",
       "      <td>418514738</td>\n",
       "      <td>41326882</td>\n",
       "      <td>4</td>\n",
       "      <td>https://www.kickstarter.com/projects/41326882/...</td>\n",
       "    </tr>\n",
       "    <tr>\n",
       "      <th>1</th>\n",
       "      <td>831413682</td>\n",
       "      <td>889915542</td>\n",
       "      <td>6</td>\n",
       "      <td>https://www.kickstarter.com/projects/889915542...</td>\n",
       "    </tr>\n",
       "    <tr>\n",
       "      <th>2</th>\n",
       "      <td>345681431</td>\n",
       "      <td>384013732</td>\n",
       "      <td>1</td>\n",
       "      <td>https://www.kickstarter.com/projects/384013732...</td>\n",
       "    </tr>\n",
       "    <tr>\n",
       "      <th>3</th>\n",
       "      <td>1072644982</td>\n",
       "      <td>945877241</td>\n",
       "      <td>5</td>\n",
       "      <td>https://www.kickstarter.com/projects/orrico/cu...</td>\n",
       "    </tr>\n",
       "    <tr>\n",
       "      <th>4</th>\n",
       "      <td>1989538515</td>\n",
       "      <td>1176168309</td>\n",
       "      <td>4</td>\n",
       "      <td>https://www.kickstarter.com/projects/117616830...</td>\n",
       "    </tr>\n",
       "  </tbody>\n",
       "</table>\n",
       "</div>"
      ],
      "text/plain": [
       "   Project_Id  Creator_Id  Reward_Tiers  \\\n",
       "0   418514738    41326882             4   \n",
       "1   831413682   889915542             6   \n",
       "2   345681431   384013732             1   \n",
       "3  1072644982   945877241             5   \n",
       "4  1989538515  1176168309             4   \n",
       "\n",
       "                                         Rewards_Url  \n",
       "0  https://www.kickstarter.com/projects/41326882/...  \n",
       "1  https://www.kickstarter.com/projects/889915542...  \n",
       "2  https://www.kickstarter.com/projects/384013732...  \n",
       "3  https://www.kickstarter.com/projects/orrico/cu...  \n",
       "4  https://www.kickstarter.com/projects/117616830...  "
      ]
     },
     "execution_count": 9,
     "metadata": {},
     "output_type": "execute_result"
    }
   ],
   "source": [
    "a"
   ]
  },
  {
   "cell_type": "markdown",
   "metadata": {},
   "source": [
    "<h2> Plotting word clouds for descriptions </h2>"
   ]
  },
  {
   "cell_type": "code",
   "execution_count": 14,
   "metadata": {},
   "outputs": [
    {
     "data": {
      "text/plain": [
       "<pandas.core.groupby.generic.DataFrameGroupBy object at 0x00000248AAB8B128>"
      ]
     },
     "execution_count": 14,
     "metadata": {},
     "output_type": "execute_result"
    }
   ],
   "source": []
  },
  {
   "cell_type": "code",
   "execution_count": null,
   "metadata": {},
   "outputs": [],
   "source": []
  },
  {
   "cell_type": "code",
   "execution_count": null,
   "metadata": {},
   "outputs": [],
   "source": []
  }
 ],
 "metadata": {
  "kernelspec": {
   "display_name": "Python 3",
   "language": "python",
   "name": "python3"
  },
  "language_info": {
   "codemirror_mode": {
    "name": "ipython",
    "version": 3
   },
   "file_extension": ".py",
   "mimetype": "text/x-python",
   "name": "python",
   "nbconvert_exporter": "python",
   "pygments_lexer": "ipython3",
   "version": "3.7.0"
  }
 },
 "nbformat": 4,
 "nbformat_minor": 2
}
